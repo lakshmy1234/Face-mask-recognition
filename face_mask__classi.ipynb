{
  "nbformat": 4,
  "nbformat_minor": 0,
  "metadata": {
    "colab": {
      "provenance": [],
      "mount_file_id": "1NkvbKSsQ1jKgUQPujl9eA4sLRfX51mMH",
      "authorship_tag": "ABX9TyNR3csPmTi5prgvhnjsjgQF",
      "include_colab_link": true
    },
    "kernelspec": {
      "name": "python3",
      "display_name": "Python 3"
    },
    "language_info": {
      "name": "python"
    }
  },
  "cells": [
    {
      "cell_type": "markdown",
      "metadata": {
        "id": "view-in-github",
        "colab_type": "text"
      },
      "source": [
        "<a href=\"https://colab.research.google.com/github/lakshmy1234/Face-mask-recognition/blob/main/face_mask__classi.ipynb\" target=\"_parent\"><img src=\"https://colab.research.google.com/assets/colab-badge.svg\" alt=\"Open In Colab\"/></a>"
      ]
    },
    {
      "cell_type": "markdown",
      "source": [
        "## **IMAGE CLASSIFICATION**\n",
        "\n",
        "**Face Mask Detection using SVM Algorithm**\n",
        "\n",
        "\n"
      ],
      "metadata": {
        "id": "3ERlf3qGYjnJ"
      }
    },
    {
      "cell_type": "code",
      "execution_count": 1,
      "metadata": {
        "id": "3v8f_dOSrTNL"
      },
      "outputs": [],
      "source": [
        "# importing the necessary packages\n",
        "\n",
        "import numpy as np\n",
        "import pandas as pd\n",
        "import os\n",
        "from skimage.transform import resize\n",
        "from skimage.io import imread,imshow "
      ]
    },
    {
      "cell_type": "code",
      "source": [
        "# listdir lists the contents of the specified directory.\n",
        "\n",
        "os.listdir(\"/content/drive/MyDrive/Datasets/Mask Data\")"
      ],
      "metadata": {
        "colab": {
          "base_uri": "https://localhost:8080/"
        },
        "id": "m0qZmoiWrYb2",
        "outputId": "4fa035ec-2c68-49e6-8570-6763799c92f6"
      },
      "execution_count": 2,
      "outputs": [
        {
          "output_type": "execute_result",
          "data": {
            "text/plain": [
              "['with_mask', 'without_mask', 'mask_face1.jpg', 'unmasked1.jpg']"
            ]
          },
          "metadata": {},
          "execution_count": 2
        }
      ]
    },
    {
      "cell_type": "code",
      "source": [
        "len(os.listdir(\"/content/drive/MyDrive/Datasets/Mask Data/with_mask\"))"
      ],
      "metadata": {
        "colab": {
          "base_uri": "https://localhost:8080/"
        },
        "id": "f74Nd5-o0uWQ",
        "outputId": "94e7e80c-72b2-4a47-ebb8-7e81a5d2d0bb"
      },
      "execution_count": 3,
      "outputs": [
        {
          "output_type": "execute_result",
          "data": {
            "text/plain": [
              "3725"
            ]
          },
          "metadata": {},
          "execution_count": 3
        }
      ]
    },
    {
      "cell_type": "code",
      "source": [
        "len(os.listdir(\"/content/drive/MyDrive/Datasets/Mask Data/without_mask\"))"
      ],
      "metadata": {
        "colab": {
          "base_uri": "https://localhost:8080/"
        },
        "id": "L3hSLnyi03c-",
        "outputId": "ab3e145b-4830-484b-eb90-365b5cc4240d"
      },
      "execution_count": 4,
      "outputs": [
        {
          "output_type": "execute_result",
          "data": {
            "text/plain": [
              "3828"
            ]
          },
          "metadata": {},
          "execution_count": 4
        }
      ]
    },
    {
      "cell_type": "code",
      "source": [
        "# creating arrays for reading the images to train the dataset\n",
        "\n",
        "data_arr=[]\n",
        "target_arr=[]\n",
        "categories=[\"with_mask\",\"without_mask\"]"
      ],
      "metadata": {
        "id": "Z6HwdsYq1Asm"
      },
      "execution_count": 5,
      "outputs": []
    },
    {
      "cell_type": "markdown",
      "source": [
        "*The given code reads every image in the dataset and store it in the array **'img_arr'** and then resize every image to a generalised size.* \n",
        "\n",
        "*The resized images are then stored to the array **'data_arr'** and target values to the **'target_arr'**.* "
      ],
      "metadata": {
        "id": "gPFJ_QILar-B"
      }
    },
    {
      "cell_type": "code",
      "source": [
        "datadir=\"/content/drive/MyDrive/Datasets/Mask Data\"\n",
        "\n",
        "for i in categories:\n",
        "  print(\"loading......\",i)\n",
        "  path=os.path.join(datadir,i)\n",
        "  for img in os.listdir(path):\n",
        "    img_arr=imread(os.path.join(path,img))\n",
        "    img_resized=resize(img_arr,(75,75,3))\n",
        "    data_arr.append(img_resized.flatten())\n",
        "    target_arr.append(categories.index(i))\n",
        "  print(\"loadedd....\",i)"
      ],
      "metadata": {
        "colab": {
          "base_uri": "https://localhost:8080/"
        },
        "id": "kXbVZH5C1SdR",
        "outputId": "ece40cd6-56e2-4d72-85e6-bb616c9e4dba"
      },
      "execution_count": 6,
      "outputs": [
        {
          "output_type": "stream",
          "name": "stdout",
          "text": [
            "loading...... with_mask\n",
            "loadedd.... with_mask\n",
            "loading...... without_mask\n",
            "loadedd.... without_mask\n"
          ]
        }
      ]
    },
    {
      "cell_type": "code",
      "source": [
        "# creating a dataframe for the image arrays\n",
        "\n",
        "df=pd.DataFrame(data_arr)\n",
        "df"
      ],
      "metadata": {
        "id": "cnMiZpYB6TC8",
        "colab": {
          "base_uri": "https://localhost:8080/",
          "height": 488
        },
        "outputId": "5834e338-5881-46f4-994b-d8c2773f957d"
      },
      "execution_count": 7,
      "outputs": [
        {
          "output_type": "execute_result",
          "data": {
            "text/plain": [
              "         0         1         2         3         4         5         6      \\\n",
              "0     0.301961  0.298039  0.282353  0.301961  0.298039  0.286275  0.305882   \n",
              "1     0.929412  0.929412  0.921569  0.929412  0.929412  0.921569  0.933333   \n",
              "2     0.439216  0.419608  0.403922  0.439216  0.419608  0.403922  0.431373   \n",
              "3     0.188235  0.235294  0.282353  0.188235  0.235294  0.282353  0.192157   \n",
              "4     0.509403  0.513725  0.462745  0.503922  0.504680  0.456863  0.404784   \n",
              "...        ...       ...       ...       ...       ...       ...       ...   \n",
              "7548  0.636471  0.569804  0.507059  0.636471  0.569804  0.507059  0.636471   \n",
              "7549  0.976471  0.956863  0.933333  0.976471  0.956863  0.933333  0.976471   \n",
              "7550  0.007111  0.003190  0.000000  0.151598  0.147677  0.139834  0.212575   \n",
              "7551  0.678013  0.548601  0.388235  0.684601  0.556444  0.396078  0.689778   \n",
              "7552  0.335081  0.401748  0.433121  0.255686  0.310588  0.345882  0.181150   \n",
              "\n",
              "         7         8         9      ...     16865     16866     16867  \\\n",
              "0     0.301961  0.286275  0.317647  ...  0.650980  0.650980  0.650980   \n",
              "1     0.933333  0.925490  0.933333  ...  0.431373  0.513725  0.470588   \n",
              "2     0.411765  0.400000  0.435294  ...  0.000000  0.003922  0.003922   \n",
              "3     0.239216  0.286275  0.200000  ...  0.168261  0.144915  0.164340   \n",
              "4     0.400863  0.352540  0.391756  ...  0.372549  0.405839  0.372549   \n",
              "...        ...       ...       ...  ...       ...       ...       ...   \n",
              "7548  0.569804  0.507059  0.637359  ...  0.219974  0.475608  0.330510   \n",
              "7549  0.956863  0.933333  0.976471  ...  0.105882  0.119216  0.119216   \n",
              "7550  0.208654  0.200810  0.207843  ...  0.456915  0.530717  0.482902   \n",
              "7551  0.562419  0.403698  0.690771  ...  0.158796  0.376690  0.266886   \n",
              "7552  0.232131  0.267425  0.167240  ...  0.255217  0.240523  0.303268   \n",
              "\n",
              "         16868     16869     16870     16871     16872     16873     16874  \n",
              "0     0.651033  0.643163  0.647059  0.650980  0.639216  0.643137  0.649046  \n",
              "1     0.423529  0.505882  0.462745  0.415686  0.498039  0.453617  0.407843  \n",
              "2     0.004248  0.019608  0.019608  0.027451  0.031373  0.031373  0.041176  \n",
              "3     0.172366  0.152758  0.168444  0.180030  0.175190  0.190876  0.202641  \n",
              "4     0.345098  0.374065  0.345098  0.317647  0.344697  0.318911  0.298039  \n",
              "...        ...       ...       ...       ...       ...       ...       ...  \n",
              "7548  0.216784  0.472910  0.327812  0.214086  0.479608  0.334510  0.220784  \n",
              "7549  0.119216  0.134588  0.134588  0.134588  0.114719  0.114719  0.114719  \n",
              "7550  0.464105  0.358614  0.319869  0.326797  0.022065  0.003190  0.006379  \n",
              "7551  0.239017  0.441748  0.329562  0.301693  0.424897  0.315556  0.275503  \n",
              "7552  0.252288  0.275456  0.338201  0.287221  0.289778  0.352523  0.301542  \n",
              "\n",
              "[7553 rows x 16875 columns]"
            ],
            "text/html": [
              "\n",
              "  <div id=\"df-e337800d-2dee-4bde-bedc-113d365ed368\">\n",
              "    <div class=\"colab-df-container\">\n",
              "      <div>\n",
              "<style scoped>\n",
              "    .dataframe tbody tr th:only-of-type {\n",
              "        vertical-align: middle;\n",
              "    }\n",
              "\n",
              "    .dataframe tbody tr th {\n",
              "        vertical-align: top;\n",
              "    }\n",
              "\n",
              "    .dataframe thead th {\n",
              "        text-align: right;\n",
              "    }\n",
              "</style>\n",
              "<table border=\"1\" class=\"dataframe\">\n",
              "  <thead>\n",
              "    <tr style=\"text-align: right;\">\n",
              "      <th></th>\n",
              "      <th>0</th>\n",
              "      <th>1</th>\n",
              "      <th>2</th>\n",
              "      <th>3</th>\n",
              "      <th>4</th>\n",
              "      <th>5</th>\n",
              "      <th>6</th>\n",
              "      <th>7</th>\n",
              "      <th>8</th>\n",
              "      <th>9</th>\n",
              "      <th>...</th>\n",
              "      <th>16865</th>\n",
              "      <th>16866</th>\n",
              "      <th>16867</th>\n",
              "      <th>16868</th>\n",
              "      <th>16869</th>\n",
              "      <th>16870</th>\n",
              "      <th>16871</th>\n",
              "      <th>16872</th>\n",
              "      <th>16873</th>\n",
              "      <th>16874</th>\n",
              "    </tr>\n",
              "  </thead>\n",
              "  <tbody>\n",
              "    <tr>\n",
              "      <th>0</th>\n",
              "      <td>0.301961</td>\n",
              "      <td>0.298039</td>\n",
              "      <td>0.282353</td>\n",
              "      <td>0.301961</td>\n",
              "      <td>0.298039</td>\n",
              "      <td>0.286275</td>\n",
              "      <td>0.305882</td>\n",
              "      <td>0.301961</td>\n",
              "      <td>0.286275</td>\n",
              "      <td>0.317647</td>\n",
              "      <td>...</td>\n",
              "      <td>0.650980</td>\n",
              "      <td>0.650980</td>\n",
              "      <td>0.650980</td>\n",
              "      <td>0.651033</td>\n",
              "      <td>0.643163</td>\n",
              "      <td>0.647059</td>\n",
              "      <td>0.650980</td>\n",
              "      <td>0.639216</td>\n",
              "      <td>0.643137</td>\n",
              "      <td>0.649046</td>\n",
              "    </tr>\n",
              "    <tr>\n",
              "      <th>1</th>\n",
              "      <td>0.929412</td>\n",
              "      <td>0.929412</td>\n",
              "      <td>0.921569</td>\n",
              "      <td>0.929412</td>\n",
              "      <td>0.929412</td>\n",
              "      <td>0.921569</td>\n",
              "      <td>0.933333</td>\n",
              "      <td>0.933333</td>\n",
              "      <td>0.925490</td>\n",
              "      <td>0.933333</td>\n",
              "      <td>...</td>\n",
              "      <td>0.431373</td>\n",
              "      <td>0.513725</td>\n",
              "      <td>0.470588</td>\n",
              "      <td>0.423529</td>\n",
              "      <td>0.505882</td>\n",
              "      <td>0.462745</td>\n",
              "      <td>0.415686</td>\n",
              "      <td>0.498039</td>\n",
              "      <td>0.453617</td>\n",
              "      <td>0.407843</td>\n",
              "    </tr>\n",
              "    <tr>\n",
              "      <th>2</th>\n",
              "      <td>0.439216</td>\n",
              "      <td>0.419608</td>\n",
              "      <td>0.403922</td>\n",
              "      <td>0.439216</td>\n",
              "      <td>0.419608</td>\n",
              "      <td>0.403922</td>\n",
              "      <td>0.431373</td>\n",
              "      <td>0.411765</td>\n",
              "      <td>0.400000</td>\n",
              "      <td>0.435294</td>\n",
              "      <td>...</td>\n",
              "      <td>0.000000</td>\n",
              "      <td>0.003922</td>\n",
              "      <td>0.003922</td>\n",
              "      <td>0.004248</td>\n",
              "      <td>0.019608</td>\n",
              "      <td>0.019608</td>\n",
              "      <td>0.027451</td>\n",
              "      <td>0.031373</td>\n",
              "      <td>0.031373</td>\n",
              "      <td>0.041176</td>\n",
              "    </tr>\n",
              "    <tr>\n",
              "      <th>3</th>\n",
              "      <td>0.188235</td>\n",
              "      <td>0.235294</td>\n",
              "      <td>0.282353</td>\n",
              "      <td>0.188235</td>\n",
              "      <td>0.235294</td>\n",
              "      <td>0.282353</td>\n",
              "      <td>0.192157</td>\n",
              "      <td>0.239216</td>\n",
              "      <td>0.286275</td>\n",
              "      <td>0.200000</td>\n",
              "      <td>...</td>\n",
              "      <td>0.168261</td>\n",
              "      <td>0.144915</td>\n",
              "      <td>0.164340</td>\n",
              "      <td>0.172366</td>\n",
              "      <td>0.152758</td>\n",
              "      <td>0.168444</td>\n",
              "      <td>0.180030</td>\n",
              "      <td>0.175190</td>\n",
              "      <td>0.190876</td>\n",
              "      <td>0.202641</td>\n",
              "    </tr>\n",
              "    <tr>\n",
              "      <th>4</th>\n",
              "      <td>0.509403</td>\n",
              "      <td>0.513725</td>\n",
              "      <td>0.462745</td>\n",
              "      <td>0.503922</td>\n",
              "      <td>0.504680</td>\n",
              "      <td>0.456863</td>\n",
              "      <td>0.404784</td>\n",
              "      <td>0.400863</td>\n",
              "      <td>0.352540</td>\n",
              "      <td>0.391756</td>\n",
              "      <td>...</td>\n",
              "      <td>0.372549</td>\n",
              "      <td>0.405839</td>\n",
              "      <td>0.372549</td>\n",
              "      <td>0.345098</td>\n",
              "      <td>0.374065</td>\n",
              "      <td>0.345098</td>\n",
              "      <td>0.317647</td>\n",
              "      <td>0.344697</td>\n",
              "      <td>0.318911</td>\n",
              "      <td>0.298039</td>\n",
              "    </tr>\n",
              "    <tr>\n",
              "      <th>...</th>\n",
              "      <td>...</td>\n",
              "      <td>...</td>\n",
              "      <td>...</td>\n",
              "      <td>...</td>\n",
              "      <td>...</td>\n",
              "      <td>...</td>\n",
              "      <td>...</td>\n",
              "      <td>...</td>\n",
              "      <td>...</td>\n",
              "      <td>...</td>\n",
              "      <td>...</td>\n",
              "      <td>...</td>\n",
              "      <td>...</td>\n",
              "      <td>...</td>\n",
              "      <td>...</td>\n",
              "      <td>...</td>\n",
              "      <td>...</td>\n",
              "      <td>...</td>\n",
              "      <td>...</td>\n",
              "      <td>...</td>\n",
              "      <td>...</td>\n",
              "    </tr>\n",
              "    <tr>\n",
              "      <th>7548</th>\n",
              "      <td>0.636471</td>\n",
              "      <td>0.569804</td>\n",
              "      <td>0.507059</td>\n",
              "      <td>0.636471</td>\n",
              "      <td>0.569804</td>\n",
              "      <td>0.507059</td>\n",
              "      <td>0.636471</td>\n",
              "      <td>0.569804</td>\n",
              "      <td>0.507059</td>\n",
              "      <td>0.637359</td>\n",
              "      <td>...</td>\n",
              "      <td>0.219974</td>\n",
              "      <td>0.475608</td>\n",
              "      <td>0.330510</td>\n",
              "      <td>0.216784</td>\n",
              "      <td>0.472910</td>\n",
              "      <td>0.327812</td>\n",
              "      <td>0.214086</td>\n",
              "      <td>0.479608</td>\n",
              "      <td>0.334510</td>\n",
              "      <td>0.220784</td>\n",
              "    </tr>\n",
              "    <tr>\n",
              "      <th>7549</th>\n",
              "      <td>0.976471</td>\n",
              "      <td>0.956863</td>\n",
              "      <td>0.933333</td>\n",
              "      <td>0.976471</td>\n",
              "      <td>0.956863</td>\n",
              "      <td>0.933333</td>\n",
              "      <td>0.976471</td>\n",
              "      <td>0.956863</td>\n",
              "      <td>0.933333</td>\n",
              "      <td>0.976471</td>\n",
              "      <td>...</td>\n",
              "      <td>0.105882</td>\n",
              "      <td>0.119216</td>\n",
              "      <td>0.119216</td>\n",
              "      <td>0.119216</td>\n",
              "      <td>0.134588</td>\n",
              "      <td>0.134588</td>\n",
              "      <td>0.134588</td>\n",
              "      <td>0.114719</td>\n",
              "      <td>0.114719</td>\n",
              "      <td>0.114719</td>\n",
              "    </tr>\n",
              "    <tr>\n",
              "      <th>7550</th>\n",
              "      <td>0.007111</td>\n",
              "      <td>0.003190</td>\n",
              "      <td>0.000000</td>\n",
              "      <td>0.151598</td>\n",
              "      <td>0.147677</td>\n",
              "      <td>0.139834</td>\n",
              "      <td>0.212575</td>\n",
              "      <td>0.208654</td>\n",
              "      <td>0.200810</td>\n",
              "      <td>0.207843</td>\n",
              "      <td>...</td>\n",
              "      <td>0.456915</td>\n",
              "      <td>0.530717</td>\n",
              "      <td>0.482902</td>\n",
              "      <td>0.464105</td>\n",
              "      <td>0.358614</td>\n",
              "      <td>0.319869</td>\n",
              "      <td>0.326797</td>\n",
              "      <td>0.022065</td>\n",
              "      <td>0.003190</td>\n",
              "      <td>0.006379</td>\n",
              "    </tr>\n",
              "    <tr>\n",
              "      <th>7551</th>\n",
              "      <td>0.678013</td>\n",
              "      <td>0.548601</td>\n",
              "      <td>0.388235</td>\n",
              "      <td>0.684601</td>\n",
              "      <td>0.556444</td>\n",
              "      <td>0.396078</td>\n",
              "      <td>0.689778</td>\n",
              "      <td>0.562419</td>\n",
              "      <td>0.403698</td>\n",
              "      <td>0.690771</td>\n",
              "      <td>...</td>\n",
              "      <td>0.158796</td>\n",
              "      <td>0.376690</td>\n",
              "      <td>0.266886</td>\n",
              "      <td>0.239017</td>\n",
              "      <td>0.441748</td>\n",
              "      <td>0.329562</td>\n",
              "      <td>0.301693</td>\n",
              "      <td>0.424897</td>\n",
              "      <td>0.315556</td>\n",
              "      <td>0.275503</td>\n",
              "    </tr>\n",
              "    <tr>\n",
              "      <th>7552</th>\n",
              "      <td>0.335081</td>\n",
              "      <td>0.401748</td>\n",
              "      <td>0.433121</td>\n",
              "      <td>0.255686</td>\n",
              "      <td>0.310588</td>\n",
              "      <td>0.345882</td>\n",
              "      <td>0.181150</td>\n",
              "      <td>0.232131</td>\n",
              "      <td>0.267425</td>\n",
              "      <td>0.167240</td>\n",
              "      <td>...</td>\n",
              "      <td>0.255217</td>\n",
              "      <td>0.240523</td>\n",
              "      <td>0.303268</td>\n",
              "      <td>0.252288</td>\n",
              "      <td>0.275456</td>\n",
              "      <td>0.338201</td>\n",
              "      <td>0.287221</td>\n",
              "      <td>0.289778</td>\n",
              "      <td>0.352523</td>\n",
              "      <td>0.301542</td>\n",
              "    </tr>\n",
              "  </tbody>\n",
              "</table>\n",
              "<p>7553 rows × 16875 columns</p>\n",
              "</div>\n",
              "      <button class=\"colab-df-convert\" onclick=\"convertToInteractive('df-e337800d-2dee-4bde-bedc-113d365ed368')\"\n",
              "              title=\"Convert this dataframe to an interactive table.\"\n",
              "              style=\"display:none;\">\n",
              "        \n",
              "  <svg xmlns=\"http://www.w3.org/2000/svg\" height=\"24px\"viewBox=\"0 0 24 24\"\n",
              "       width=\"24px\">\n",
              "    <path d=\"M0 0h24v24H0V0z\" fill=\"none\"/>\n",
              "    <path d=\"M18.56 5.44l.94 2.06.94-2.06 2.06-.94-2.06-.94-.94-2.06-.94 2.06-2.06.94zm-11 1L8.5 8.5l.94-2.06 2.06-.94-2.06-.94L8.5 2.5l-.94 2.06-2.06.94zm10 10l.94 2.06.94-2.06 2.06-.94-2.06-.94-.94-2.06-.94 2.06-2.06.94z\"/><path d=\"M17.41 7.96l-1.37-1.37c-.4-.4-.92-.59-1.43-.59-.52 0-1.04.2-1.43.59L10.3 9.45l-7.72 7.72c-.78.78-.78 2.05 0 2.83L4 21.41c.39.39.9.59 1.41.59.51 0 1.02-.2 1.41-.59l7.78-7.78 2.81-2.81c.8-.78.8-2.07 0-2.86zM5.41 20L4 18.59l7.72-7.72 1.47 1.35L5.41 20z\"/>\n",
              "  </svg>\n",
              "      </button>\n",
              "      \n",
              "  <style>\n",
              "    .colab-df-container {\n",
              "      display:flex;\n",
              "      flex-wrap:wrap;\n",
              "      gap: 12px;\n",
              "    }\n",
              "\n",
              "    .colab-df-convert {\n",
              "      background-color: #E8F0FE;\n",
              "      border: none;\n",
              "      border-radius: 50%;\n",
              "      cursor: pointer;\n",
              "      display: none;\n",
              "      fill: #1967D2;\n",
              "      height: 32px;\n",
              "      padding: 0 0 0 0;\n",
              "      width: 32px;\n",
              "    }\n",
              "\n",
              "    .colab-df-convert:hover {\n",
              "      background-color: #E2EBFA;\n",
              "      box-shadow: 0px 1px 2px rgba(60, 64, 67, 0.3), 0px 1px 3px 1px rgba(60, 64, 67, 0.15);\n",
              "      fill: #174EA6;\n",
              "    }\n",
              "\n",
              "    [theme=dark] .colab-df-convert {\n",
              "      background-color: #3B4455;\n",
              "      fill: #D2E3FC;\n",
              "    }\n",
              "\n",
              "    [theme=dark] .colab-df-convert:hover {\n",
              "      background-color: #434B5C;\n",
              "      box-shadow: 0px 1px 3px 1px rgba(0, 0, 0, 0.15);\n",
              "      filter: drop-shadow(0px 1px 2px rgba(0, 0, 0, 0.3));\n",
              "      fill: #FFFFFF;\n",
              "    }\n",
              "  </style>\n",
              "\n",
              "      <script>\n",
              "        const buttonEl =\n",
              "          document.querySelector('#df-e337800d-2dee-4bde-bedc-113d365ed368 button.colab-df-convert');\n",
              "        buttonEl.style.display =\n",
              "          google.colab.kernel.accessAllowed ? 'block' : 'none';\n",
              "\n",
              "        async function convertToInteractive(key) {\n",
              "          const element = document.querySelector('#df-e337800d-2dee-4bde-bedc-113d365ed368');\n",
              "          const dataTable =\n",
              "            await google.colab.kernel.invokeFunction('convertToInteractive',\n",
              "                                                     [key], {});\n",
              "          if (!dataTable) return;\n",
              "\n",
              "          const docLinkHtml = 'Like what you see? Visit the ' +\n",
              "            '<a target=\"_blank\" href=https://colab.research.google.com/notebooks/data_table.ipynb>data table notebook</a>'\n",
              "            + ' to learn more about interactive tables.';\n",
              "          element.innerHTML = '';\n",
              "          dataTable['output_type'] = 'display_data';\n",
              "          await google.colab.output.renderOutput(dataTable, element);\n",
              "          const docLink = document.createElement('div');\n",
              "          docLink.innerHTML = docLinkHtml;\n",
              "          element.appendChild(docLink);\n",
              "        }\n",
              "      </script>\n",
              "    </div>\n",
              "  </div>\n",
              "  "
            ]
          },
          "metadata": {},
          "execution_count": 7
        }
      ]
    },
    {
      "cell_type": "code",
      "source": [
        "# adding the target values to the data frame \n",
        "\n",
        "df['target']=(target_arr)\n",
        "df"
      ],
      "metadata": {
        "colab": {
          "base_uri": "https://localhost:8080/",
          "height": 488
        },
        "id": "1LuU9c7UCgpL",
        "outputId": "26e0b2f0-d4c1-4c87-8b09-4535288c3161"
      },
      "execution_count": 8,
      "outputs": [
        {
          "output_type": "execute_result",
          "data": {
            "text/plain": [
              "             0         1         2         3         4         5         6  \\\n",
              "0     0.301961  0.298039  0.282353  0.301961  0.298039  0.286275  0.305882   \n",
              "1     0.929412  0.929412  0.921569  0.929412  0.929412  0.921569  0.933333   \n",
              "2     0.439216  0.419608  0.403922  0.439216  0.419608  0.403922  0.431373   \n",
              "3     0.188235  0.235294  0.282353  0.188235  0.235294  0.282353  0.192157   \n",
              "4     0.509403  0.513725  0.462745  0.503922  0.504680  0.456863  0.404784   \n",
              "...        ...       ...       ...       ...       ...       ...       ...   \n",
              "7548  0.636471  0.569804  0.507059  0.636471  0.569804  0.507059  0.636471   \n",
              "7549  0.976471  0.956863  0.933333  0.976471  0.956863  0.933333  0.976471   \n",
              "7550  0.007111  0.003190  0.000000  0.151598  0.147677  0.139834  0.212575   \n",
              "7551  0.678013  0.548601  0.388235  0.684601  0.556444  0.396078  0.689778   \n",
              "7552  0.335081  0.401748  0.433121  0.255686  0.310588  0.345882  0.181150   \n",
              "\n",
              "             7         8         9  ...     16866     16867     16868  \\\n",
              "0     0.301961  0.286275  0.317647  ...  0.650980  0.650980  0.651033   \n",
              "1     0.933333  0.925490  0.933333  ...  0.513725  0.470588  0.423529   \n",
              "2     0.411765  0.400000  0.435294  ...  0.003922  0.003922  0.004248   \n",
              "3     0.239216  0.286275  0.200000  ...  0.144915  0.164340  0.172366   \n",
              "4     0.400863  0.352540  0.391756  ...  0.405839  0.372549  0.345098   \n",
              "...        ...       ...       ...  ...       ...       ...       ...   \n",
              "7548  0.569804  0.507059  0.637359  ...  0.475608  0.330510  0.216784   \n",
              "7549  0.956863  0.933333  0.976471  ...  0.119216  0.119216  0.119216   \n",
              "7550  0.208654  0.200810  0.207843  ...  0.530717  0.482902  0.464105   \n",
              "7551  0.562419  0.403698  0.690771  ...  0.376690  0.266886  0.239017   \n",
              "7552  0.232131  0.267425  0.167240  ...  0.240523  0.303268  0.252288   \n",
              "\n",
              "         16869     16870     16871     16872     16873     16874  target  \n",
              "0     0.643163  0.647059  0.650980  0.639216  0.643137  0.649046       0  \n",
              "1     0.505882  0.462745  0.415686  0.498039  0.453617  0.407843       0  \n",
              "2     0.019608  0.019608  0.027451  0.031373  0.031373  0.041176       0  \n",
              "3     0.152758  0.168444  0.180030  0.175190  0.190876  0.202641       0  \n",
              "4     0.374065  0.345098  0.317647  0.344697  0.318911  0.298039       0  \n",
              "...        ...       ...       ...       ...       ...       ...     ...  \n",
              "7548  0.472910  0.327812  0.214086  0.479608  0.334510  0.220784       1  \n",
              "7549  0.134588  0.134588  0.134588  0.114719  0.114719  0.114719       1  \n",
              "7550  0.358614  0.319869  0.326797  0.022065  0.003190  0.006379       1  \n",
              "7551  0.441748  0.329562  0.301693  0.424897  0.315556  0.275503       1  \n",
              "7552  0.275456  0.338201  0.287221  0.289778  0.352523  0.301542       1  \n",
              "\n",
              "[7553 rows x 16876 columns]"
            ],
            "text/html": [
              "\n",
              "  <div id=\"df-5de8f808-b3c1-4ac3-9e35-ec195a953e70\">\n",
              "    <div class=\"colab-df-container\">\n",
              "      <div>\n",
              "<style scoped>\n",
              "    .dataframe tbody tr th:only-of-type {\n",
              "        vertical-align: middle;\n",
              "    }\n",
              "\n",
              "    .dataframe tbody tr th {\n",
              "        vertical-align: top;\n",
              "    }\n",
              "\n",
              "    .dataframe thead th {\n",
              "        text-align: right;\n",
              "    }\n",
              "</style>\n",
              "<table border=\"1\" class=\"dataframe\">\n",
              "  <thead>\n",
              "    <tr style=\"text-align: right;\">\n",
              "      <th></th>\n",
              "      <th>0</th>\n",
              "      <th>1</th>\n",
              "      <th>2</th>\n",
              "      <th>3</th>\n",
              "      <th>4</th>\n",
              "      <th>5</th>\n",
              "      <th>6</th>\n",
              "      <th>7</th>\n",
              "      <th>8</th>\n",
              "      <th>9</th>\n",
              "      <th>...</th>\n",
              "      <th>16866</th>\n",
              "      <th>16867</th>\n",
              "      <th>16868</th>\n",
              "      <th>16869</th>\n",
              "      <th>16870</th>\n",
              "      <th>16871</th>\n",
              "      <th>16872</th>\n",
              "      <th>16873</th>\n",
              "      <th>16874</th>\n",
              "      <th>target</th>\n",
              "    </tr>\n",
              "  </thead>\n",
              "  <tbody>\n",
              "    <tr>\n",
              "      <th>0</th>\n",
              "      <td>0.301961</td>\n",
              "      <td>0.298039</td>\n",
              "      <td>0.282353</td>\n",
              "      <td>0.301961</td>\n",
              "      <td>0.298039</td>\n",
              "      <td>0.286275</td>\n",
              "      <td>0.305882</td>\n",
              "      <td>0.301961</td>\n",
              "      <td>0.286275</td>\n",
              "      <td>0.317647</td>\n",
              "      <td>...</td>\n",
              "      <td>0.650980</td>\n",
              "      <td>0.650980</td>\n",
              "      <td>0.651033</td>\n",
              "      <td>0.643163</td>\n",
              "      <td>0.647059</td>\n",
              "      <td>0.650980</td>\n",
              "      <td>0.639216</td>\n",
              "      <td>0.643137</td>\n",
              "      <td>0.649046</td>\n",
              "      <td>0</td>\n",
              "    </tr>\n",
              "    <tr>\n",
              "      <th>1</th>\n",
              "      <td>0.929412</td>\n",
              "      <td>0.929412</td>\n",
              "      <td>0.921569</td>\n",
              "      <td>0.929412</td>\n",
              "      <td>0.929412</td>\n",
              "      <td>0.921569</td>\n",
              "      <td>0.933333</td>\n",
              "      <td>0.933333</td>\n",
              "      <td>0.925490</td>\n",
              "      <td>0.933333</td>\n",
              "      <td>...</td>\n",
              "      <td>0.513725</td>\n",
              "      <td>0.470588</td>\n",
              "      <td>0.423529</td>\n",
              "      <td>0.505882</td>\n",
              "      <td>0.462745</td>\n",
              "      <td>0.415686</td>\n",
              "      <td>0.498039</td>\n",
              "      <td>0.453617</td>\n",
              "      <td>0.407843</td>\n",
              "      <td>0</td>\n",
              "    </tr>\n",
              "    <tr>\n",
              "      <th>2</th>\n",
              "      <td>0.439216</td>\n",
              "      <td>0.419608</td>\n",
              "      <td>0.403922</td>\n",
              "      <td>0.439216</td>\n",
              "      <td>0.419608</td>\n",
              "      <td>0.403922</td>\n",
              "      <td>0.431373</td>\n",
              "      <td>0.411765</td>\n",
              "      <td>0.400000</td>\n",
              "      <td>0.435294</td>\n",
              "      <td>...</td>\n",
              "      <td>0.003922</td>\n",
              "      <td>0.003922</td>\n",
              "      <td>0.004248</td>\n",
              "      <td>0.019608</td>\n",
              "      <td>0.019608</td>\n",
              "      <td>0.027451</td>\n",
              "      <td>0.031373</td>\n",
              "      <td>0.031373</td>\n",
              "      <td>0.041176</td>\n",
              "      <td>0</td>\n",
              "    </tr>\n",
              "    <tr>\n",
              "      <th>3</th>\n",
              "      <td>0.188235</td>\n",
              "      <td>0.235294</td>\n",
              "      <td>0.282353</td>\n",
              "      <td>0.188235</td>\n",
              "      <td>0.235294</td>\n",
              "      <td>0.282353</td>\n",
              "      <td>0.192157</td>\n",
              "      <td>0.239216</td>\n",
              "      <td>0.286275</td>\n",
              "      <td>0.200000</td>\n",
              "      <td>...</td>\n",
              "      <td>0.144915</td>\n",
              "      <td>0.164340</td>\n",
              "      <td>0.172366</td>\n",
              "      <td>0.152758</td>\n",
              "      <td>0.168444</td>\n",
              "      <td>0.180030</td>\n",
              "      <td>0.175190</td>\n",
              "      <td>0.190876</td>\n",
              "      <td>0.202641</td>\n",
              "      <td>0</td>\n",
              "    </tr>\n",
              "    <tr>\n",
              "      <th>4</th>\n",
              "      <td>0.509403</td>\n",
              "      <td>0.513725</td>\n",
              "      <td>0.462745</td>\n",
              "      <td>0.503922</td>\n",
              "      <td>0.504680</td>\n",
              "      <td>0.456863</td>\n",
              "      <td>0.404784</td>\n",
              "      <td>0.400863</td>\n",
              "      <td>0.352540</td>\n",
              "      <td>0.391756</td>\n",
              "      <td>...</td>\n",
              "      <td>0.405839</td>\n",
              "      <td>0.372549</td>\n",
              "      <td>0.345098</td>\n",
              "      <td>0.374065</td>\n",
              "      <td>0.345098</td>\n",
              "      <td>0.317647</td>\n",
              "      <td>0.344697</td>\n",
              "      <td>0.318911</td>\n",
              "      <td>0.298039</td>\n",
              "      <td>0</td>\n",
              "    </tr>\n",
              "    <tr>\n",
              "      <th>...</th>\n",
              "      <td>...</td>\n",
              "      <td>...</td>\n",
              "      <td>...</td>\n",
              "      <td>...</td>\n",
              "      <td>...</td>\n",
              "      <td>...</td>\n",
              "      <td>...</td>\n",
              "      <td>...</td>\n",
              "      <td>...</td>\n",
              "      <td>...</td>\n",
              "      <td>...</td>\n",
              "      <td>...</td>\n",
              "      <td>...</td>\n",
              "      <td>...</td>\n",
              "      <td>...</td>\n",
              "      <td>...</td>\n",
              "      <td>...</td>\n",
              "      <td>...</td>\n",
              "      <td>...</td>\n",
              "      <td>...</td>\n",
              "      <td>...</td>\n",
              "    </tr>\n",
              "    <tr>\n",
              "      <th>7548</th>\n",
              "      <td>0.636471</td>\n",
              "      <td>0.569804</td>\n",
              "      <td>0.507059</td>\n",
              "      <td>0.636471</td>\n",
              "      <td>0.569804</td>\n",
              "      <td>0.507059</td>\n",
              "      <td>0.636471</td>\n",
              "      <td>0.569804</td>\n",
              "      <td>0.507059</td>\n",
              "      <td>0.637359</td>\n",
              "      <td>...</td>\n",
              "      <td>0.475608</td>\n",
              "      <td>0.330510</td>\n",
              "      <td>0.216784</td>\n",
              "      <td>0.472910</td>\n",
              "      <td>0.327812</td>\n",
              "      <td>0.214086</td>\n",
              "      <td>0.479608</td>\n",
              "      <td>0.334510</td>\n",
              "      <td>0.220784</td>\n",
              "      <td>1</td>\n",
              "    </tr>\n",
              "    <tr>\n",
              "      <th>7549</th>\n",
              "      <td>0.976471</td>\n",
              "      <td>0.956863</td>\n",
              "      <td>0.933333</td>\n",
              "      <td>0.976471</td>\n",
              "      <td>0.956863</td>\n",
              "      <td>0.933333</td>\n",
              "      <td>0.976471</td>\n",
              "      <td>0.956863</td>\n",
              "      <td>0.933333</td>\n",
              "      <td>0.976471</td>\n",
              "      <td>...</td>\n",
              "      <td>0.119216</td>\n",
              "      <td>0.119216</td>\n",
              "      <td>0.119216</td>\n",
              "      <td>0.134588</td>\n",
              "      <td>0.134588</td>\n",
              "      <td>0.134588</td>\n",
              "      <td>0.114719</td>\n",
              "      <td>0.114719</td>\n",
              "      <td>0.114719</td>\n",
              "      <td>1</td>\n",
              "    </tr>\n",
              "    <tr>\n",
              "      <th>7550</th>\n",
              "      <td>0.007111</td>\n",
              "      <td>0.003190</td>\n",
              "      <td>0.000000</td>\n",
              "      <td>0.151598</td>\n",
              "      <td>0.147677</td>\n",
              "      <td>0.139834</td>\n",
              "      <td>0.212575</td>\n",
              "      <td>0.208654</td>\n",
              "      <td>0.200810</td>\n",
              "      <td>0.207843</td>\n",
              "      <td>...</td>\n",
              "      <td>0.530717</td>\n",
              "      <td>0.482902</td>\n",
              "      <td>0.464105</td>\n",
              "      <td>0.358614</td>\n",
              "      <td>0.319869</td>\n",
              "      <td>0.326797</td>\n",
              "      <td>0.022065</td>\n",
              "      <td>0.003190</td>\n",
              "      <td>0.006379</td>\n",
              "      <td>1</td>\n",
              "    </tr>\n",
              "    <tr>\n",
              "      <th>7551</th>\n",
              "      <td>0.678013</td>\n",
              "      <td>0.548601</td>\n",
              "      <td>0.388235</td>\n",
              "      <td>0.684601</td>\n",
              "      <td>0.556444</td>\n",
              "      <td>0.396078</td>\n",
              "      <td>0.689778</td>\n",
              "      <td>0.562419</td>\n",
              "      <td>0.403698</td>\n",
              "      <td>0.690771</td>\n",
              "      <td>...</td>\n",
              "      <td>0.376690</td>\n",
              "      <td>0.266886</td>\n",
              "      <td>0.239017</td>\n",
              "      <td>0.441748</td>\n",
              "      <td>0.329562</td>\n",
              "      <td>0.301693</td>\n",
              "      <td>0.424897</td>\n",
              "      <td>0.315556</td>\n",
              "      <td>0.275503</td>\n",
              "      <td>1</td>\n",
              "    </tr>\n",
              "    <tr>\n",
              "      <th>7552</th>\n",
              "      <td>0.335081</td>\n",
              "      <td>0.401748</td>\n",
              "      <td>0.433121</td>\n",
              "      <td>0.255686</td>\n",
              "      <td>0.310588</td>\n",
              "      <td>0.345882</td>\n",
              "      <td>0.181150</td>\n",
              "      <td>0.232131</td>\n",
              "      <td>0.267425</td>\n",
              "      <td>0.167240</td>\n",
              "      <td>...</td>\n",
              "      <td>0.240523</td>\n",
              "      <td>0.303268</td>\n",
              "      <td>0.252288</td>\n",
              "      <td>0.275456</td>\n",
              "      <td>0.338201</td>\n",
              "      <td>0.287221</td>\n",
              "      <td>0.289778</td>\n",
              "      <td>0.352523</td>\n",
              "      <td>0.301542</td>\n",
              "      <td>1</td>\n",
              "    </tr>\n",
              "  </tbody>\n",
              "</table>\n",
              "<p>7553 rows × 16876 columns</p>\n",
              "</div>\n",
              "      <button class=\"colab-df-convert\" onclick=\"convertToInteractive('df-5de8f808-b3c1-4ac3-9e35-ec195a953e70')\"\n",
              "              title=\"Convert this dataframe to an interactive table.\"\n",
              "              style=\"display:none;\">\n",
              "        \n",
              "  <svg xmlns=\"http://www.w3.org/2000/svg\" height=\"24px\"viewBox=\"0 0 24 24\"\n",
              "       width=\"24px\">\n",
              "    <path d=\"M0 0h24v24H0V0z\" fill=\"none\"/>\n",
              "    <path d=\"M18.56 5.44l.94 2.06.94-2.06 2.06-.94-2.06-.94-.94-2.06-.94 2.06-2.06.94zm-11 1L8.5 8.5l.94-2.06 2.06-.94-2.06-.94L8.5 2.5l-.94 2.06-2.06.94zm10 10l.94 2.06.94-2.06 2.06-.94-2.06-.94-.94-2.06-.94 2.06-2.06.94z\"/><path d=\"M17.41 7.96l-1.37-1.37c-.4-.4-.92-.59-1.43-.59-.52 0-1.04.2-1.43.59L10.3 9.45l-7.72 7.72c-.78.78-.78 2.05 0 2.83L4 21.41c.39.39.9.59 1.41.59.51 0 1.02-.2 1.41-.59l7.78-7.78 2.81-2.81c.8-.78.8-2.07 0-2.86zM5.41 20L4 18.59l7.72-7.72 1.47 1.35L5.41 20z\"/>\n",
              "  </svg>\n",
              "      </button>\n",
              "      \n",
              "  <style>\n",
              "    .colab-df-container {\n",
              "      display:flex;\n",
              "      flex-wrap:wrap;\n",
              "      gap: 12px;\n",
              "    }\n",
              "\n",
              "    .colab-df-convert {\n",
              "      background-color: #E8F0FE;\n",
              "      border: none;\n",
              "      border-radius: 50%;\n",
              "      cursor: pointer;\n",
              "      display: none;\n",
              "      fill: #1967D2;\n",
              "      height: 32px;\n",
              "      padding: 0 0 0 0;\n",
              "      width: 32px;\n",
              "    }\n",
              "\n",
              "    .colab-df-convert:hover {\n",
              "      background-color: #E2EBFA;\n",
              "      box-shadow: 0px 1px 2px rgba(60, 64, 67, 0.3), 0px 1px 3px 1px rgba(60, 64, 67, 0.15);\n",
              "      fill: #174EA6;\n",
              "    }\n",
              "\n",
              "    [theme=dark] .colab-df-convert {\n",
              "      background-color: #3B4455;\n",
              "      fill: #D2E3FC;\n",
              "    }\n",
              "\n",
              "    [theme=dark] .colab-df-convert:hover {\n",
              "      background-color: #434B5C;\n",
              "      box-shadow: 0px 1px 3px 1px rgba(0, 0, 0, 0.15);\n",
              "      filter: drop-shadow(0px 1px 2px rgba(0, 0, 0, 0.3));\n",
              "      fill: #FFFFFF;\n",
              "    }\n",
              "  </style>\n",
              "\n",
              "      <script>\n",
              "        const buttonEl =\n",
              "          document.querySelector('#df-5de8f808-b3c1-4ac3-9e35-ec195a953e70 button.colab-df-convert');\n",
              "        buttonEl.style.display =\n",
              "          google.colab.kernel.accessAllowed ? 'block' : 'none';\n",
              "\n",
              "        async function convertToInteractive(key) {\n",
              "          const element = document.querySelector('#df-5de8f808-b3c1-4ac3-9e35-ec195a953e70');\n",
              "          const dataTable =\n",
              "            await google.colab.kernel.invokeFunction('convertToInteractive',\n",
              "                                                     [key], {});\n",
              "          if (!dataTable) return;\n",
              "\n",
              "          const docLinkHtml = 'Like what you see? Visit the ' +\n",
              "            '<a target=\"_blank\" href=https://colab.research.google.com/notebooks/data_table.ipynb>data table notebook</a>'\n",
              "            + ' to learn more about interactive tables.';\n",
              "          element.innerHTML = '';\n",
              "          dataTable['output_type'] = 'display_data';\n",
              "          await google.colab.output.renderOutput(dataTable, element);\n",
              "          const docLink = document.createElement('div');\n",
              "          docLink.innerHTML = docLinkHtml;\n",
              "          element.appendChild(docLink);\n",
              "        }\n",
              "      </script>\n",
              "    </div>\n",
              "  </div>\n",
              "  "
            ]
          },
          "metadata": {},
          "execution_count": 8
        }
      ]
    },
    {
      "cell_type": "code",
      "source": [
        "# defining the input and output datas\n",
        "\n",
        "X=df.iloc[:,:-1].values\n",
        "Y=df.iloc[:,-1].values\n",
        "X"
      ],
      "metadata": {
        "colab": {
          "base_uri": "https://localhost:8080/"
        },
        "id": "LhrLFZXDGZw-",
        "outputId": "11352050-7d2e-41c2-8681-92fc802a2d79"
      },
      "execution_count": 9,
      "outputs": [
        {
          "output_type": "execute_result",
          "data": {
            "text/plain": [
              "array([[0.30196078, 0.29803922, 0.28235294, ..., 0.63921569, 0.64313725,\n",
              "        0.64904575],\n",
              "       [0.92941176, 0.92941176, 0.92156863, ..., 0.49803922, 0.45361656,\n",
              "        0.40784314],\n",
              "       [0.43921569, 0.41960784, 0.40392157, ..., 0.03137255, 0.03137255,\n",
              "        0.04117647],\n",
              "       ...,\n",
              "       [0.00711111, 0.00318954, 0.        , ..., 0.02206536, 0.00318954,\n",
              "        0.00637908],\n",
              "       [0.67801307, 0.54860131, 0.38823529, ..., 0.42489656, 0.31555556,\n",
              "        0.27550327],\n",
              "       [0.33508148, 0.40174815, 0.4331207 , ..., 0.28977778, 0.35252288,\n",
              "        0.30154248]])"
            ]
          },
          "metadata": {},
          "execution_count": 9
        }
      ]
    },
    {
      "cell_type": "code",
      "source": [
        "Y"
      ],
      "metadata": {
        "colab": {
          "base_uri": "https://localhost:8080/"
        },
        "id": "0ravX1nHGq8Y",
        "outputId": "3bf6ed37-cabf-4b32-8535-04a47915e77a"
      },
      "execution_count": 10,
      "outputs": [
        {
          "output_type": "execute_result",
          "data": {
            "text/plain": [
              "array([0, 0, 0, ..., 1, 1, 1])"
            ]
          },
          "metadata": {},
          "execution_count": 10
        }
      ]
    },
    {
      "cell_type": "code",
      "source": [
        "# splitting the dataset to training and testing data\n",
        "\n",
        "from sklearn.model_selection import train_test_split\n",
        "x_train,x_test,y_train,y_test=train_test_split(X,Y,test_size=0.30,random_state=1)\n",
        "x_train"
      ],
      "metadata": {
        "colab": {
          "base_uri": "https://localhost:8080/"
        },
        "id": "labc74DPGsrU",
        "outputId": "3e8290a0-969a-4d58-802a-ec1278603809"
      },
      "execution_count": 11,
      "outputs": [
        {
          "output_type": "execute_result",
          "data": {
            "text/plain": [
              "array([[0.36204096, 0.31372898, 0.32225011, ..., 0.31010545, 0.2311512 ,\n",
              "        0.1953342 ],\n",
              "       [0.98431373, 1.        , 1.        , ..., 1.        , 1.        ,\n",
              "        1.        ],\n",
              "       [0.99215686, 0.99215686, 0.99215686, ..., 0.56078431, 0.44682353,\n",
              "        0.31764706],\n",
              "       ...,\n",
              "       [0.87843137, 0.80437821, 0.76862745, ..., 0.1332671 , 0.12934553,\n",
              "        0.19209063],\n",
              "       [0.87079303, 0.77667538, 0.66687146, ..., 0.80452723, 0.5966841 ,\n",
              "        0.43982135],\n",
              "       [1.        , 1.        , 1.        , ..., 0.73333333, 0.54117647,\n",
              "        0.4745098 ]])"
            ]
          },
          "metadata": {},
          "execution_count": 11
        }
      ]
    },
    {
      "cell_type": "code",
      "source": [
        "x_test"
      ],
      "metadata": {
        "colab": {
          "base_uri": "https://localhost:8080/"
        },
        "id": "KwrjrRdok3dq",
        "outputId": "2cdb87a2-fe84-4f8a-b556-a99cc8749c91"
      },
      "execution_count": 13,
      "outputs": [
        {
          "output_type": "execute_result",
          "data": {
            "text/plain": [
              "array([[1.        , 1.        , 1.        , ..., 1.        , 1.        ,\n",
              "        1.        ],\n",
              "       [0.18322196, 0.14400627, 0.17537882, ..., 0.48660078, 0.46374484,\n",
              "        0.46307137],\n",
              "       [0.92237908, 0.94291869, 0.93943425, ..., 0.08972549, 0.16781699,\n",
              "        0.21694118],\n",
              "       ...,\n",
              "       [1.        , 1.        , 1.        , ..., 0.14117647, 0.13333333,\n",
              "        0.14117647],\n",
              "       [0.44050963, 0.31445403, 0.28855216, ..., 0.22582031, 0.14738893,\n",
              "        0.1513105 ],\n",
              "       [0.73254902, 0.79388235, 0.78666667, ..., 0.51639216, 0.57552941,\n",
              "        0.60847059]])"
            ]
          },
          "metadata": {},
          "execution_count": 13
        }
      ]
    },
    {
      "cell_type": "code",
      "source": [
        "y_train"
      ],
      "metadata": {
        "colab": {
          "base_uri": "https://localhost:8080/"
        },
        "id": "rzLIh6APk3sd",
        "outputId": "da489d5b-cf92-4425-88f4-c7c5d8db574f"
      },
      "execution_count": 14,
      "outputs": [
        {
          "output_type": "execute_result",
          "data": {
            "text/plain": [
              "array([0, 0, 0, ..., 1, 0, 1])"
            ]
          },
          "metadata": {},
          "execution_count": 14
        }
      ]
    },
    {
      "cell_type": "code",
      "source": [
        "y_test"
      ],
      "metadata": {
        "colab": {
          "base_uri": "https://localhost:8080/"
        },
        "id": "I1iMgj-qk37j",
        "outputId": "b0c02f5f-c83d-4938-ebd1-02856d675853"
      },
      "execution_count": 15,
      "outputs": [
        {
          "output_type": "execute_result",
          "data": {
            "text/plain": [
              "array([0, 0, 1, ..., 1, 0, 1])"
            ]
          },
          "metadata": {},
          "execution_count": 15
        }
      ]
    },
    {
      "cell_type": "code",
      "source": [
        "# SVM Algorithm\n",
        "\n",
        "from sklearn.svm import SVC\n",
        "classifier=SVC()\n",
        "classifier.fit(x_train,y_train)\n",
        "y_pred=classifier.predict(x_test)\n",
        "y_pred"
      ],
      "metadata": {
        "colab": {
          "base_uri": "https://localhost:8080/"
        },
        "id": "WiZI4UfZH9pw",
        "outputId": "a009bdd5-f38f-432a-c313-3d963e3298ec"
      },
      "execution_count": 16,
      "outputs": [
        {
          "output_type": "execute_result",
          "data": {
            "text/plain": [
              "array([0, 0, 0, ..., 1, 0, 1])"
            ]
          },
          "metadata": {},
          "execution_count": 16
        }
      ]
    },
    {
      "cell_type": "code",
      "source": [
        "from sklearn.metrics import classification_report,accuracy_score,ConfusionMatrixDisplay\n",
        "matrix=ConfusionMatrixDisplay.from_predictions(y_test,y_pred)\n",
        "print(matrix)"
      ],
      "metadata": {
        "colab": {
          "base_uri": "https://localhost:8080/",
          "height": 296
        },
        "id": "7vGRFtvAJo7H",
        "outputId": "acc5ef71-c2ee-460d-c278-5a54cbe60eb8"
      },
      "execution_count": 17,
      "outputs": [
        {
          "output_type": "stream",
          "name": "stdout",
          "text": [
            "<sklearn.metrics._plot.confusion_matrix.ConfusionMatrixDisplay object at 0x7fa44fee3550>\n"
          ]
        },
        {
          "output_type": "display_data",
          "data": {
            "text/plain": [
              "<Figure size 432x288 with 2 Axes>"
            ],
            "image/png": "[encoded data removed]"
          },
          "metadata": {
            "needs_background": "light"
          }
        }
      ]
    },
    {
      "cell_type": "code",
      "source": [
        "score=accuracy_score(y_test,y_pred)\n",
        "print(score)"
      ],
      "metadata": {
        "colab": {
          "base_uri": "https://localhost:8080/"
        },
        "id": "ncFiueF0Khal",
        "outputId": "ade69562-cbb0-46b5-f14d-bbdd7784e1d0"
      },
      "execution_count": 18,
      "outputs": [
        {
          "output_type": "stream",
          "name": "stdout",
          "text": [
            "0.9020300088261254\n"
          ]
        }
      ]
    },
    {
      "cell_type": "code",
      "source": [
        "report=classification_report(y_test,y_pred)\n",
        "print(report)"
      ],
      "metadata": {
        "colab": {
          "base_uri": "https://localhost:8080/"
        },
        "id": "XfC7LskzKxTS",
        "outputId": "10bdcb8d-d57f-4770-9d7c-4457d4f2151d"
      },
      "execution_count": 19,
      "outputs": [
        {
          "output_type": "stream",
          "name": "stdout",
          "text": [
            "              precision    recall  f1-score   support\n",
            "\n",
            "           0       0.89      0.92      0.90      1111\n",
            "           1       0.92      0.89      0.90      1155\n",
            "\n",
            "    accuracy                           0.90      2266\n",
            "   macro avg       0.90      0.90      0.90      2266\n",
            "weighted avg       0.90      0.90      0.90      2266\n",
            "\n"
          ]
        }
      ]
    },
    {
      "cell_type": "code",
      "source": [
        "maskpath=\"/content/drive/MyDrive/Datasets/Mask Data/mask_face1.jpg\"\n",
        "img1=imread(maskpath)\n",
        "img1resize=resize(img1,(75,75,3)).flatten().reshape(1,-1)\n",
        "classifier.predict(img1resize)"
      ],
      "metadata": {
        "colab": {
          "base_uri": "https://localhost:8080/"
        },
        "id": "f-pXBDOQK8vj",
        "outputId": "e9fdfef1-3575-442f-cb2b-ae41ca731039"
      },
      "execution_count": 20,
      "outputs": [
        {
          "output_type": "execute_result",
          "data": {
            "text/plain": [
              "array([0])"
            ]
          },
          "metadata": {},
          "execution_count": 20
        }
      ]
    },
    {
      "cell_type": "markdown",
      "source": [
        "*Hence, the new image has been classified to the category **'0'** which means the image belongs to a masked face. Clearly, the displayed image below proves the prediction to be correct.*"
      ],
      "metadata": {
        "id": "PBkKsgxOdSoI"
      }
    },
    {
      "cell_type": "code",
      "source": [
        "from skimage import io\n",
        "io.imshow(img1)"
      ],
      "metadata": {
        "colab": {
          "base_uri": "https://localhost:8080/",
          "height": 284
        },
        "id": "PRiQ809uPFzd",
        "outputId": "ab1bebe4-8ebe-4392-a3e8-9a64d01f3477"
      },
      "execution_count": 21,
      "outputs": [
        {
          "output_type": "execute_result",
          "data": {
            "text/plain": [
              "<matplotlib.image.AxesImage at 0x7fa44f971dd0>"
            ]
          },
          "metadata": {},
          "execution_count": 21
        },
        {
          "output_type": "display_data",
          "data": {
            "text/plain": [
              "<Figure size 432x288 with 1 Axes>"
            ],
            "image/png": "[encoded data removed]"
          },
          "metadata": {
            "needs_background": "light"
          }
        }
      ]
    },
    {
      "cell_type": "code",
      "source": [
        "unmaskpath=\"/content/drive/MyDrive/Datasets/Mask Data/unmasked1.jpg\"\n",
        "img2=imread(unmaskpath)\n",
        "img2resize=resize(img2,(75,75,3)).flatten().reshape(1,-1)\n",
        "classifier.predict(img2resize)"
      ],
      "metadata": {
        "colab": {
          "base_uri": "https://localhost:8080/"
        },
        "id": "GFguGzZCMo_T",
        "outputId": "e75153f6-31e5-4dff-b5d4-41f54d443a55"
      },
      "execution_count": 22,
      "outputs": [
        {
          "output_type": "execute_result",
          "data": {
            "text/plain": [
              "array([1])"
            ]
          },
          "metadata": {},
          "execution_count": 22
        }
      ]
    },
    {
      "cell_type": "markdown",
      "source": [
        "*Hence, the new image has been classified to the category **'1'** which means the image belongs to an unmasked face.Clearly, the displayed image below proves the prediction to be correct.* "
      ],
      "metadata": {
        "id": "AGeGO1Ybf6-5"
      }
    },
    {
      "cell_type": "code",
      "source": [
        "io.imshow(img2)"
      ],
      "metadata": {
        "colab": {
          "base_uri": "https://localhost:8080/",
          "height": 314
        },
        "id": "3LrkUX6ZTSHw",
        "outputId": "e494d199-273d-471c-a24c-ddb90e351c00"
      },
      "execution_count": 23,
      "outputs": [
        {
          "output_type": "execute_result",
          "data": {
            "text/plain": [
              "<matplotlib.image.AxesImage at 0x7fa44fe8f6d0>"
            ]
          },
          "metadata": {},
          "execution_count": 23
        },
        {
          "output_type": "display_data",
          "data": {
            "text/plain": [
              "<Figure size 432x288 with 1 Axes>"
            ],
            "image/png": "[encoded data removed]"
          },
          "metadata": {
            "needs_background": "light"
          }
        }
      ]
    }
  ]
}